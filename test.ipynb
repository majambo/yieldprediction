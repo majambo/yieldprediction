{
 "cells": [
  {
   "cell_type": "code",
   "execution_count": null,
   "metadata": {},
   "outputs": [],
   "source": [
    "import pandas as pd\n",
    "import pandas as pd\n",
    "import geopandas as gpd\n",
    "from bokeh.plotting import figure, show\n",
    "from bokeh.models import GeoJSONDataSource, ColumnDataSource, HoverTool\n",
    "from bokeh.palettes import Viridis256\n",
    "from bokeh.models import LinearColorMapper, ColorBar\n",
    "#import streamlit as st\n",
    "#from streamlit_folium import st_folium\n",
    "#import folium\n",
    "#from leaflet import Map, GeoJSON"
   ]
  },
  {
   "cell_type": "code",
   "execution_count": null,
   "metadata": {},
   "outputs": [],
   "source": [
    "data = pd.read_csv(\"tanzania2023.csv\")\n",
    "data['harvest'] = pd.to_datetime(data['harvest'], format='%d/%m/%Y')\n",
    "#data['harvest_month'] = df_date.dt.month_name()\n",
    "data['harvest_month'] = data['harvest'].dt.strftime(\"%B\")\n",
    "data['harvest_year'] = data['harvest'].dt.strftime(\"%Y\")\n",
    "#data.to_csv(\"updated_tanzania23.csv\", index=False)\n",
    "\n",
    "print(data.head(10))"
   ]
  },
  {
   "cell_type": "code",
   "execution_count": 35,
   "metadata": {},
   "outputs": [
    {
     "name": "stdout",
     "output_type": "stream",
     "text": [
      "  cname    harvest    planting  wsgd  gwad harvest_month harvest_year\n",
      "0  Bahi 2022-03-06  04/11/2021   0.0  2897         March         2022\n",
      "1  Bahi 2022-02-23  19/10/2021   0.0  3978      February         2022\n",
      "2  Bahi 2022-02-23  19/10/2021   0.0  3975      February         2022\n",
      "3  Bahi 2022-03-06  04/11/2021   0.0  2899         March         2022\n",
      "4  Bahi 2022-02-18  13/10/2021   0.0  4251      February         2022\n",
      "5  Bahi 2022-02-11  08/10/2021   0.0  4059      February         2022\n",
      "6  Bahi 2022-03-06  04/11/2021   0.0  2903         March         2022\n",
      "7  Bahi 2022-02-13  10/10/2021   0.0  4158      February         2022\n",
      "8  Bahi 2022-02-13  10/10/2021   0.0  4158      February         2022\n",
      "9  Bahi 2022-02-23  19/10/2021   0.0  4017      February         2022\n"
     ]
    }
   ],
   "source": [
    "months = ['May']\n",
    "df22 = data.loc[data['harvest_year'] != 2023]\n",
    "#df22 = data[data['harvest_month'].isin(months)]\n",
    "#df22 = df.groupby('cname').mean()\n",
    "print(df22.head(10))\n",
    "#max(df22['wsgd'])"
   ]
  },
  {
   "cell_type": "code",
   "execution_count": 46,
   "metadata": {},
   "outputs": [
    {
     "name": "stdout",
     "output_type": "stream",
     "text": [
      "cname     harvest_year  harvest_month\n",
      "Bahi      2022          February         0.0000\n",
      "                        July             0.0000\n",
      "                        March            0.0000\n",
      "          2023          February         0.0000\n",
      "                        June             0.0401\n",
      "                        March            0.0000\n",
      "Buhigwe   2022          February         0.0000\n",
      "                        January          0.0000\n",
      "                        July             0.5138\n",
      "          2023          February         0.0000\n",
      "                        January          0.0000\n",
      "                        June             0.0989\n",
      "Chamwino  2022          February         0.0000\n",
      "                        July             0.0000\n",
      "                        March            0.0000\n",
      "          2023          February         0.0000\n",
      "                        June             0.1753\n",
      "                        March            0.0000\n",
      "Chemba    2022          February         0.0000\n",
      "                        July             0.0000\n",
      "Name: wsgd, dtype: float64\n"
     ]
    }
   ],
   "source": [
    "grouped = data.groupby([\"cname\", \"harvest_year\", \"harvest_month\"])[\"wsgd\"].mean()\n",
    "print(grouped.head(20))\n"
   ]
  },
  {
   "cell_type": "code",
   "execution_count": null,
   "metadata": {},
   "outputs": [],
   "source": [
    "shapefile = gpd.read_file(\"unimodal.shp\")\n",
    "country_shapefile = gpd.read_file('tanzania.shp')\n",
    "#shapefile[\"NewDist20\"] = shapefile.index\n",
    "#print(shapefile)"
   ]
  },
  {
   "cell_type": "code",
   "execution_count": null,
   "metadata": {},
   "outputs": [],
   "source": [
    "yield_data = pd.read_csv(\"districts_points2.csv\")\n",
    "#print(yield_data)"
   ]
  },
  {
   "cell_type": "code",
   "execution_count": null,
   "metadata": {},
   "outputs": [],
   "source": [
    "merged_data = pd.merge(shapefile, yield_data, on=\"NAME_2\")\n",
    "#print(merged_data)"
   ]
  },
  {
   "cell_type": "code",
   "execution_count": null,
   "metadata": {},
   "outputs": [],
   "source": [
    "geo_source = GeoJSONDataSource(geojson=merged_data.to_json())\n",
    "country_geo_source = GeoJSONDataSource(geojson=country_shapefile.to_json())"
   ]
  },
  {
   "cell_type": "code",
   "execution_count": null,
   "metadata": {},
   "outputs": [],
   "source": [
    "color_mapper = LinearColorMapper(palette=Viridis256, low=min(merged_data['gwad']), high=max(merged_data['gwad']))"
   ]
  },
  {
   "cell_type": "code",
   "execution_count": null,
   "metadata": {},
   "outputs": [],
   "source": [
    "p1 = figure(title='Yield Data by District',\n",
    "           plot_width=650, plot_height=600)\n",
    "\n",
    "p1.multi_line('xs','ys', source=country_geo_source,\n",
    "            line_color='black', line_width=0.5)\n",
    "\n",
    "p1.patches('xs','ys', source=geo_source,\n",
    "          fill_color={'field': 'gwad', 'transform': color_mapper},\n",
    "          fill_alpha=0.7, line_color='black', line_width=0.5)\n",
    "\n",
    "hover = HoverTool(tooltips=[('District', '@NAME_2'), ('gwad', '@gwad')])\n",
    "p1.add_tools(hover)\n",
    "\n",
    "color_bar = ColorBar(color_mapper=color_mapper, label_standoff=8, width=20, height=300,\n",
    "                     border_line_color=None, location=(0,0), orientation='vertical')\n",
    "p1.add_layout(color_bar, 'right')"
   ]
  },
  {
   "cell_type": "code",
   "execution_count": null,
   "metadata": {},
   "outputs": [],
   "source": [
    "color_mapper1 = LinearColorMapper(palette=Viridis256, low=min(merged_data['wsgd']), high=max(merged_data['wsgd']))\n",
    "\n",
    "p2 = figure(title='Yield Data by District',\n",
    "           plot_width=650, plot_height=600)\n",
    "\n",
    "p2.multi_line('xs','ys', source=country_geo_source,\n",
    "            line_color='black', line_width=0.5)\n",
    "\n",
    "p2.patches('xs','ys', source=geo_source,\n",
    "          fill_color={'field': 'wsgd', 'transform': color_mapper1},\n",
    "          fill_alpha=0.7, line_color='black', line_width=0.5)\n",
    "\n",
    "hover = HoverTool(tooltips=[('District', '@NAME_2'), ('wsgd', '@wsgd')])\n",
    "p2.add_tools(hover)\n",
    "\n",
    "color_bar = ColorBar(color_mapper=color_mapper1, label_standoff=8, width=20, height=300,\n",
    "                     border_line_color=None, location=(0,0), orientation='vertical')\n",
    "p2.add_layout(color_bar, 'right')"
   ]
  },
  {
   "cell_type": "code",
   "execution_count": null,
   "metadata": {},
   "outputs": [],
   "source": [
    "from bokeh.layouts import column\n",
    "layout = column(p1, p2)\n",
    "#show(layout)"
   ]
  },
  {
   "cell_type": "code",
   "execution_count": null,
   "metadata": {},
   "outputs": [],
   "source": [
    "from bokeh.io import output_file, show\n",
    "output_file(\"plot.html\")\n",
    "show(layout)"
   ]
  },
  {
   "cell_type": "code",
   "execution_count": null,
   "metadata": {},
   "outputs": [],
   "source": [
    "#from bokeh.io import save\n",
    "\n",
    "# specify the output file name and location\n",
    "#save(p, filename='yield_map.html', title='Yield Data Map')"
   ]
  }
 ],
 "metadata": {
  "kernelspec": {
   "display_name": "base",
   "language": "python",
   "name": "python3"
  },
  "language_info": {
   "codemirror_mode": {
    "name": "ipython",
    "version": 3
   },
   "file_extension": ".py",
   "mimetype": "text/x-python",
   "name": "python",
   "nbconvert_exporter": "python",
   "pygments_lexer": "ipython3",
   "version": "3.9.12"
  },
  "orig_nbformat": 4,
  "vscode": {
   "interpreter": {
    "hash": "1db0cfa2229a1e7dc5b92e878eefb6a59298900e4ebd407710c1ec8377d612b6"
   }
  }
 },
 "nbformat": 4,
 "nbformat_minor": 2
}
