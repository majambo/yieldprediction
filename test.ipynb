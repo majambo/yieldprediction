{
 "cells": [
  {
   "cell_type": "code",
   "execution_count": null,
   "metadata": {},
   "outputs": [],
   "source": [
    "import pandas as pd\n",
    "import numpy as np\n",
    "import geopandas as gpd\n",
    "from bokeh.plotting import figure, show\n",
    "from bokeh.models import GeoJSONDataSource, ColumnDataSource, HoverTool\n",
    "from bokeh.palettes import Viridis256\n",
    "from bokeh.models import LinearColorMapper, ColorBar\n",
    "#import streamlit as st\n",
    "#from streamlit_folium import st_folium\n",
    "#import folium\n",
    "#from leaflet import Map, GeoJSON"
   ]
  },
  {
   "cell_type": "code",
   "execution_count": null,
   "metadata": {},
   "outputs": [],
   "source": [
    "#DATA sets\n",
    "#shapefiles\n",
    "unimodal_shapefile='rheas/gadm36_TZA_LongRain.shp'\n",
    "bimodal_shapefile='rheas/gadm36_TZA_2_Bimodal.shp'\n",
    "country_shapefile='rheas/gadm36_TZA_0.shp'\n",
    "unimodal_csv='rheas/tanzania_tamsat_25km_districts_unimod_dssatTable_2021_2023_100kg.csv'\n",
    "bimodal_csv='rheas/tanzania_tamsat_25km_districts_bimod_dssatTable_2000_2023_100kg.csv'"
   ]
  },
  {
   "cell_type": "code",
   "execution_count": 70,
   "metadata": {},
   "outputs": [],
   "source": [
    "def format_df(filename):\n",
    "    df = pd.read_csv(filename)\n",
    "    df['harvest'] = pd.to_datetime(df['harvest'], format='%Y/%m/%d')\n",
    "    df['planting'] = pd.to_datetime(df['planting'], format='%Y/%m/%d')\n",
    "    df['date'] = df['harvest'].dt.strftime(\"%Y\")\n",
    "    df = df.rename(columns={'cname': 'Region'})\n",
    "    #df = df.rename(columns={df.columns[1]: \"Region\"})\n",
    "    #df['Region'] = df['Region'].str.upper()\n",
    "    return df"
   ]
  },
  {
   "cell_type": "code",
   "execution_count": 71,
   "metadata": {},
   "outputs": [],
   "source": [
    "unimodal_data = format_df(unimodal_csv)"
   ]
  },
  {
   "cell_type": "code",
   "execution_count": 72,
   "metadata": {},
   "outputs": [
    {
     "name": "stdout",
     "output_type": "stream",
     "text": [
      "     Region  date Season         gwad\n",
      "0      Bahi  2022     LR  3783.650000\n",
      "1      Bahi  2023     LR  3123.037500\n",
      "2   Buhigwe  2022     LR  3725.214286\n",
      "3   Buhigwe  2023     LR  2691.573529\n",
      "4  Chamwino  2022     LR  3743.050000\n"
     ]
    }
   ],
   "source": [
    "# Unimodal season:  October--August (LR)\n",
    "lrStart = [9, 10, 11, 12, 1,2, 3, 4]\n",
    "lrEnd = [2, 3, 4, 5, 6, 7, 8]\n",
    "def LR_metrics(lr, lrStart, lrEnd, season):\n",
    "    lr.loc[(pd.to_datetime(lr['planting']).dt.month.isin(lrStart)) & (pd.to_datetime(lr['harvest']).dt.month.isin(lrEnd)), 'Season'] = season\n",
    "    lr = lr.groupby(['Region', 'date', 'Season'], as_index=False).agg({'gwad': 'mean'})\n",
    "\n",
    "    return lr\n",
    "\n",
    "rh_lr = LR_metrics(unimodal_data, lrStart, lrEnd, \"LR\")\n",
    "print(rh_lr.head())"
   ]
  },
  {
   "cell_type": "code",
   "execution_count": 73,
   "metadata": {},
   "outputs": [
    {
     "name": "stdout",
     "output_type": "stream",
     "text": [
      "   Region  date Season      gwad\n",
      "0  Arusha  2000    OND  3205.300\n",
      "1  Arusha  2001    OND  3062.425\n",
      "2  Arusha  2002    OND  3394.625\n",
      "3  Arusha  2003    OND  3228.975\n",
      "4  Arusha  2004    OND  3246.025\n"
     ]
    }
   ],
   "source": [
    "# Bimodal season:  October--August (OND)\n",
    "bimodal_data = format_df(bimodal_csv)\n",
    "ondStart = [9, 10, 11]\n",
    "ondEnd = [1, 2, 3]\n",
    "def OND_metrics(ond, ondStart, ondEnd, season):\n",
    "    ond.loc[(pd.to_datetime(ond['planting']).dt.month.isin(ondStart)) & (pd.to_datetime(ond['harvest']).dt.month.isin(ondEnd)), 'Season'] = season\n",
    "    ond = ond.groupby(['Region', 'date', 'Season'], as_index=False).agg({'gwad': 'mean'})\n",
    "\n",
    "    return ond\n",
    "\n",
    "rh_ond = OND_metrics(bimodal_data, ondStart, ondEnd, \"OND\")\n",
    "print(rh_ond.head())"
   ]
  },
  {
   "cell_type": "code",
   "execution_count": 74,
   "metadata": {},
   "outputs": [
    {
     "data": {
      "text/html": [
       "<div>\n",
       "<style scoped>\n",
       "    .dataframe tbody tr th:only-of-type {\n",
       "        vertical-align: middle;\n",
       "    }\n",
       "\n",
       "    .dataframe tbody tr th {\n",
       "        vertical-align: top;\n",
       "    }\n",
       "\n",
       "    .dataframe thead th {\n",
       "        text-align: right;\n",
       "    }\n",
       "</style>\n",
       "<table border=\"1\" class=\"dataframe\">\n",
       "  <thead>\n",
       "    <tr style=\"text-align: right;\">\n",
       "      <th></th>\n",
       "      <th>Region</th>\n",
       "      <th>Season</th>\n",
       "      <th>gwad</th>\n",
       "    </tr>\n",
       "  </thead>\n",
       "  <tbody>\n",
       "    <tr>\n",
       "      <th>0</th>\n",
       "      <td>Bahi</td>\n",
       "      <td>LR</td>\n",
       "      <td>3783.650000</td>\n",
       "    </tr>\n",
       "    <tr>\n",
       "      <th>1</th>\n",
       "      <td>Bahi</td>\n",
       "      <td>LR</td>\n",
       "      <td>3123.037500</td>\n",
       "    </tr>\n",
       "    <tr>\n",
       "      <th>2</th>\n",
       "      <td>Buhigwe</td>\n",
       "      <td>LR</td>\n",
       "      <td>3725.214286</td>\n",
       "    </tr>\n",
       "    <tr>\n",
       "      <th>3</th>\n",
       "      <td>Buhigwe</td>\n",
       "      <td>LR</td>\n",
       "      <td>2691.573529</td>\n",
       "    </tr>\n",
       "    <tr>\n",
       "      <th>4</th>\n",
       "      <td>Chamwino</td>\n",
       "      <td>LR</td>\n",
       "      <td>3743.050000</td>\n",
       "    </tr>\n",
       "  </tbody>\n",
       "</table>\n",
       "</div>"
      ],
      "text/plain": [
       "     Region Season         gwad\n",
       "0      Bahi     LR  3783.650000\n",
       "1      Bahi     LR  3123.037500\n",
       "2   Buhigwe     LR  3725.214286\n",
       "3   Buhigwe     LR  2691.573529\n",
       "4  Chamwino     LR  3743.050000"
      ]
     },
     "execution_count": 74,
     "metadata": {},
     "output_type": "execute_result"
    }
   ],
   "source": [
    "# Read shapefiles and merge data\n",
    "unimodal_shapefile = gpd.read_file(\"rheas/gadm36_TZA_2_LongRain.shp\")\n",
    "country_shapefile = gpd.read_file(\"rheas/gadm36_TZA_0.shp\")\n",
    "unimodal_shapefile.rename(columns={'NAME_2':'Region'}, inplace=True)\n",
    "unimodal_shapefile = unimodal_shapefile[['Region']]\n",
    "rh_lr = rh_lr[['Region','Season','gwad']]\n",
    "unimodal_merged_data = rh_lr.merge(unimodal_shapefile, on=\"Region\", how='left')\n",
    "unimodal_merged_data.head()"
   ]
  },
  {
   "cell_type": "code",
   "execution_count": 76,
   "metadata": {},
   "outputs": [],
   "source": [
    "geo_source = GeoJSONDataSource(geojson=unimodal_merged_data.to_json())\n",
    "country_geo_source = GeoJSONDataSource(geojson=country_shapefile.to_json())"
   ]
  },
  {
   "cell_type": "code",
   "execution_count": 77,
   "metadata": {},
   "outputs": [],
   "source": [
    "color_mapper = LinearColorMapper(palette=Viridis256, low=min(unimodal_merged_data['gwad']), high=max(unimodal_merged_data['gwad']))"
   ]
  },
  {
   "cell_type": "code",
   "execution_count": 78,
   "metadata": {},
   "outputs": [],
   "source": [
    "p1 = figure(title='Yield Data by District', plot_width=650, plot_height=600)\n",
    "\n",
    "p1.multi_line('xs','ys', source=country_geo_source, line_color='black', line_width=0.5)\n",
    "\n",
    "p1.patches('xs','ys', source=geo_source,\n",
    "          fill_color={'field': 'gwad', 'transform': color_mapper},\n",
    "          fill_alpha=0.7, line_color='black', line_width=0.5)\n",
    "\n",
    "hover = HoverTool(tooltips=[('District', '@NAME_2'), ('gwad', '@gwad')])\n",
    "p1.add_tools(hover)\n",
    "\n",
    "color_bar = ColorBar(color_mapper=color_mapper, label_standoff=8, width=20, height=300,\n",
    "                     border_line_color=None, location=(0,0), orientation='vertical')\n",
    "p1.add_layout(color_bar, 'right')"
   ]
  },
  {
   "cell_type": "code",
   "execution_count": 79,
   "metadata": {},
   "outputs": [],
   "source": [
    "show(p1)"
   ]
  },
  {
   "cell_type": "code",
   "execution_count": null,
   "metadata": {},
   "outputs": [],
   "source": [
    "color_mapper1 = LinearColorMapper(palette=Viridis256, low=min(unimodal_merged_data['gwad']), high=max(unimodal_merged_data['gwad']))\n",
    "\n",
    "p2 = figure(title='Yield Data by District',\n",
    "           plot_width=650, plot_height=600)\n",
    "\n",
    "p2.multi_line('xs','ys', source=country_geo_source,\n",
    "            line_color='black', line_width=0.5)\n",
    "\n",
    "p2.patches('xs','ys', source=geo_source,\n",
    "          fill_color={'field': 'gwad', 'transform': color_mapper1},\n",
    "          fill_alpha=0.7, line_color='black', line_width=0.5)\n",
    "\n",
    "hover = HoverTool(tooltips=[('District', '@NAME_2'), ('gwad', '@gwad')])\n",
    "p2.add_tools(hover)\n",
    "\n",
    "color_bar = ColorBar(color_mapper=color_mapper1, label_standoff=8, width=20, height=300,\n",
    "                     border_line_color=None, location=(0,0), orientation='vertical')\n",
    "p2.add_layout(color_bar, 'right')"
   ]
  },
  {
   "cell_type": "code",
   "execution_count": null,
   "metadata": {},
   "outputs": [],
   "source": [
    "#from bokeh.layouts import column\n",
    "#layout = column(p1, p2)\n",
    "#show(layout)"
   ]
  },
  {
   "cell_type": "code",
   "execution_count": null,
   "metadata": {},
   "outputs": [],
   "source": [
    "#from bokeh.io import output_file, show\n",
    "#output_file(plot.html)\n",
    "show(layout)"
   ]
  },
  {
   "cell_type": "code",
   "execution_count": null,
   "metadata": {},
   "outputs": [],
   "source": [
    "#from bokeh.io import save\n",
    "\n",
    "# specify the output file name and location\n",
    "#save(p, filename=yield_map.html, title=Yield Data Map)"
   ]
  }
 ],
 "metadata": {
  "kernelspec": {
   "display_name": "base",
   "language": "python",
   "name": "python3"
  },
  "language_info": {
   "codemirror_mode": {
    "name": "ipython",
    "version": 3
   },
   "file_extension": ".py",
   "mimetype": "text/x-python",
   "name": "python",
   "nbconvert_exporter": "python",
   "pygments_lexer": "ipython3",
   "version": "3.9.12"
  },
  "orig_nbformat": 4,
  "vscode": {
   "interpreter": {
    "hash": "1db0cfa2229a1e7dc5b92e878eefb6a59298900e4ebd407710c1ec8377d612b6"
   }
  }
 },
 "nbformat": 4,
 "nbformat_minor": 2
}
