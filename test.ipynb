{
 "cells": [
  {
   "cell_type": "code",
   "execution_count": 1,
   "metadata": {},
   "outputs": [],
   "source": [
    "import pandas as pd\n",
    "import numpy as np\n",
    "import geopandas as gpd\n",
    "from bokeh.plotting import figure, show\n",
    "from bokeh.models import GeoJSONDataSource, ColumnDataSource, HoverTool\n",
    "from bokeh.palettes import Viridis256\n",
    "from bokeh.models import LinearColorMapper, ColorBar\n",
    "#import streamlit as st\n",
    "#from streamlit_folium import st_folium\n",
    "#import folium\n",
    "#from leaflet import Map, GeoJSON"
   ]
  },
  {
   "cell_type": "code",
   "execution_count": 2,
   "metadata": {},
   "outputs": [],
   "source": [
    "def format_df(filename):\n",
    "    df = pd.read_csv(filename)\n",
    "    df['harvest'] = pd.to_datetime(df['harvest'], format='%Y/%m/%d')\n",
    "    df['planting'] = pd.to_datetime(df['planting'], format='%Y/%m/%d')\n",
    "    df['date'] = df['harvest'].dt.strftime(\"%Y\")\n",
    "    df = df.rename(columns={df.columns[1]: \"Region\"})\n",
    "    #df['Region'] = df['Region'].str.upper()\n",
    "    return df"
   ]
  },
  {
   "cell_type": "code",
   "execution_count": 3,
   "metadata": {},
   "outputs": [],
   "source": [
    "data = format_df(\"rheas/tanzania_tamsat_25km_unimode.csv\")"
   ]
  },
  {
   "cell_type": "code",
   "execution_count": 4,
   "metadata": {},
   "outputs": [
    {
     "name": "stdout",
     "output_type": "stream",
     "text": [
      "   gid   Region  ensemble    harvest   planting  wsgd  date\n",
      "0   18  Buhigwe        10 2022-01-21 2021-09-22   0.0  2022\n",
      "1   18  Buhigwe        27 2022-01-21 2021-09-22   0.0  2022\n",
      "2   18  Buhigwe        19 2022-01-21 2021-09-22   0.0  2022\n"
     ]
    }
   ],
   "source": [
    "print(data.head(3))"
   ]
  },
  {
   "cell_type": "code",
   "execution_count": 5,
   "metadata": {},
   "outputs": [
    {
     "name": "stdout",
     "output_type": "stream",
     "text": [
      "     Region  date Season      wsgd\n",
      "0      Bahi  2022     LR  0.014275\n",
      "1      Bahi  2023     LR  0.129525\n",
      "2   Buhigwe  2022     LR  0.113337\n",
      "3   Buhigwe  2023     LR  0.012735\n",
      "4  Chamwino  2022     LR  0.089038\n"
     ]
    }
   ],
   "source": [
    "# Unimodal season:  October--August (LR)\n",
    "lrStart = [9, 10, 11, 12, 1,2, 3, 4]\n",
    "lrEnd = [2, 3, 4, 5, 6, 7, 8]\n",
    "def LR_metrics(lr, lrStart, lrEnd, season):\n",
    "    lr.loc[(pd.to_datetime(lr['planting']).dt.month.isin(lrStart)) & (pd.to_datetime(lr['harvest']).dt.month.isin(lrEnd)), 'Season'] = season\n",
    "    lr = lr.groupby(['Region', 'date', 'Season'], as_index=False).agg({'wsgd': 'mean'})\n",
    "\n",
    "    return lr\n",
    "\n",
    "rh_lr = LR_metrics(data, lrStart, lrEnd, \"LR\")\n",
    "print(rh_lr.head())"
   ]
  },
  {
   "cell_type": "code",
   "execution_count": 6,
   "metadata": {},
   "outputs": [
    {
     "name": "stdout",
     "output_type": "stream",
     "text": [
      "    Region  date Season      wsgd\n",
      "0     Bahi  2022     LR  0.028550\n",
      "1     Bahi  2022    OND  0.000000\n",
      "2     Bahi  2023     LR  0.259050\n",
      "3     Bahi  2023    OND  0.000000\n",
      "4  Buhigwe  2022     LR  0.277675\n"
     ]
    }
   ],
   "source": [
    "# Unimodal season:  October--August (OND)\n",
    "ondStart = [9, 10, 11]\n",
    "ondEnd = [1, 2, 3]\n",
    "def OND_metrics(ond, ondStart, ondEnd, season):\n",
    "    ond.loc[(pd.to_datetime(ond['planting']).dt.month.isin(ondStart)) & (pd.to_datetime(ond['harvest']).dt.month.isin(ondEnd)), 'Season'] = season\n",
    "    ond = ond.groupby(['Region', 'date', 'Season'], as_index=False).agg({'wsgd': 'mean'})\n",
    "\n",
    "    return ond\n",
    "\n",
    "rh_ond = OND_metrics(data, ondStart, ondEnd, \"OND\")\n",
    "print(rh_ond.head())"
   ]
  },
  {
   "cell_type": "code",
   "execution_count": null,
   "metadata": {},
   "outputs": [],
   "source": [
    "geo_source = GeoJSONDataSource(geojson=merged_data.to_json())\n",
    "country_geo_source = GeoJSONDataSource(geojson=country_shapefile.to_json())"
   ]
  },
  {
   "cell_type": "code",
   "execution_count": null,
   "metadata": {},
   "outputs": [],
   "source": [
    "color_mapper = LinearColorMapper(palette=Viridis256, low=min(merged_data[gwad]), high=max(merged_data[gwad]))"
   ]
  },
  {
   "cell_type": "code",
   "execution_count": null,
   "metadata": {},
   "outputs": [],
   "source": [
    "p1 = figure(title=Yield Data by District,\n",
    "           plot_width=650, plot_height=600)\n",
    "\n",
    "p1.multi_line(xs,ys, source=country_geo_source,\n",
    "            line_color=black, line_width=0.5)\n",
    "\n",
    "p1.patches(xs,ys, source=geo_source,\n",
    "          fill_color={field: gwad, transform: color_mapper},\n",
    "          fill_alpha=0.7, line_color=black, line_width=0.5)\n",
    "\n",
    "hover = HoverTool(tooltips=[(District, @NAME_2), (gwad, @gwad)])\n",
    "p1.add_tools(hover)\n",
    "\n",
    "color_bar = ColorBar(color_mapper=color_mapper, label_standoff=8, width=20, height=300,\n",
    "                     border_line_color=None, location=(0,0), orientation=vertical)\n",
    "p1.add_layout(color_bar, right)"
   ]
  },
  {
   "cell_type": "code",
   "execution_count": null,
   "metadata": {},
   "outputs": [],
   "source": [
    "color_mapper1 = LinearColorMapper(palette=Viridis256, low=min(merged_data[wsgd]), high=max(merged_data[wsgd]))\n",
    "\n",
    "p2 = figure(title=Yield Data by District,\n",
    "           plot_width=650, plot_height=600)\n",
    "\n",
    "p2.multi_line(xs,ys, source=country_geo_source,\n",
    "            line_color=black, line_width=0.5)\n",
    "\n",
    "p2.patches(xs,ys, source=geo_source,\n",
    "          fill_color={field: wsgd, transform: color_mapper1},\n",
    "          fill_alpha=0.7, line_color=black, line_width=0.5)\n",
    "\n",
    "hover = HoverTool(tooltips=[(District, @NAME_2), (wsgd, @wsgd)])\n",
    "p2.add_tools(hover)\n",
    "\n",
    "color_bar = ColorBar(color_mapper=color_mapper1, label_standoff=8, width=20, height=300,\n",
    "                     border_line_color=None, location=(0,0), orientation=vertical)\n",
    "p2.add_layout(color_bar, right)"
   ]
  },
  {
   "cell_type": "code",
   "execution_count": null,
   "metadata": {},
   "outputs": [],
   "source": [
    "from bokeh.layouts import column\n",
    "layout = column(p1, p2)\n",
    "#show(layout)"
   ]
  },
  {
   "cell_type": "code",
   "execution_count": null,
   "metadata": {},
   "outputs": [],
   "source": [
    "from bokeh.io import output_file, show\n",
    "output_file(plot.html)\n",
    "show(layout)"
   ]
  },
  {
   "cell_type": "code",
   "execution_count": null,
   "metadata": {},
   "outputs": [],
   "source": [
    "#from bokeh.io import save\n",
    "\n",
    "# specify the output file name and location\n",
    "#save(p, filename=yield_map.html, title=Yield Data Map)"
   ]
  }
 ],
 "metadata": {
  "kernelspec": {
   "display_name": "base",
   "language": "python",
   "name": "python3"
  },
  "language_info": {
   "codemirror_mode": {
    "name": "ipython",
    "version": 3
   },
   "file_extension": ".py",
   "mimetype": "text/x-python",
   "name": "python",
   "nbconvert_exporter": "python",
   "pygments_lexer": "ipython3",
   "version": "3.9.12"
  },
  "orig_nbformat": 4,
  "vscode": {
   "interpreter": {
    "hash": "1db0cfa2229a1e7dc5b92e878eefb6a59298900e4ebd407710c1ec8377d612b6"
   }
  }
 },
 "nbformat": 4,
 "nbformat_minor": 2
}
