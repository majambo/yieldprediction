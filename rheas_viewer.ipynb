{
 "cells": [
  {
   "cell_type": "code",
   "execution_count": 100,
   "metadata": {},
   "outputs": [],
   "source": [
    "import pandas as pd\n",
    "import pandas as pd\n",
    "import geopandas as gpd\n",
    "from bokeh.layouts import gridplot\n",
    "from bokeh.plotting import figure, show\n",
    "from bokeh.models import GeoJSONDataSource, ColumnDataSource, HoverTool\n",
    "from bokeh.palettes import Viridis256, Inferno256, Magma256\n",
    "from bokeh.palettes import BrBG, PiYG, RdGy, RdYlGn, YlGnBu\n",
    "from bokeh.models import LinearColorMapper, ColorBar\n",
    "#import streamlit as st\n",
    "#from streamlit_folium import st_folium\n",
    "#import folium\n",
    "#from leaflet import Map, GeoJSON"
   ]
  },
  {
   "cell_type": "code",
   "execution_count": 101,
   "metadata": {},
   "outputs": [],
   "source": [
    "def format_df(filename):\n",
    "    df = pd.read_csv(filename)\n",
    "    df['harvest'] = pd.to_datetime(df['harvest'], format='%Y/%m/%d')\n",
    "    df['planting'] = pd.to_datetime(df['planting'], format='%Y/%m/%d')\n",
    "    df['date'] = df['harvest'].dt.strftime(\"%Y\")\n",
    "    df = df.rename(columns={'cname': 'Region'})\n",
    "    df['gwad'] =df['gwad']/1000\n",
    "    #df = df.rename(columns={df.columns[1]: \"Region\"})\n",
    "    #df['Region'] = df['Region'].str.upper()\n",
    "    return df"
   ]
  },
  {
   "cell_type": "code",
   "execution_count": 102,
   "metadata": {},
   "outputs": [],
   "source": [
    "unimodal=format_df('rheas/tanzania_tamsat_25km_districts_unimod_dssatTable_2021_2023_100kg.csv')\n",
    "bimodal = format_df('rheas/tanzania_tamsat_25km_districts_bimod_dssatTable_2021_2023_100kg.csv')"
   ]
  },
  {
   "cell_type": "code",
   "execution_count": 103,
   "metadata": {},
   "outputs": [
    {
     "name": "stdout",
     "output_type": "stream",
     "text": [
      "     Region  date Season      gwad\n",
      "0      Bahi  2022     LR  3.783650\n",
      "1      Bahi  2023     LR  3.123037\n",
      "2   Buhigwe  2022     LR  3.725214\n",
      "3   Buhigwe  2023     LR  2.691574\n",
      "4  Chamwino  2022     LR  3.743050\n"
     ]
    }
   ],
   "source": [
    "# Unimodal season:  October--August (LR)\n",
    "lrStart = [9, 10, 11, 12, 1,2, 3, 4]\n",
    "lrEnd = [2, 3, 4, 5, 6, 7, 8]\n",
    "def LR_metrics(lr, lrStart, lrEnd, season):\n",
    "    lr.loc[(pd.to_datetime(lr['planting']).dt.month.isin(lrStart)) & (pd.to_datetime(lr['harvest']).dt.month.isin(lrEnd)), 'Season'] = season\n",
    "    lr = lr.groupby(['Region', 'date', 'Season'], as_index=False).agg({'gwad': 'mean'})\n",
    "\n",
    "    return lr\n",
    "\n",
    "rh_lr = LR_metrics(unimodal, lrStart, lrEnd, \"LR\")\n",
    "print(rh_lr.head())"
   ]
  },
  {
   "cell_type": "code",
   "execution_count": 104,
   "metadata": {},
   "outputs": [
    {
     "name": "stdout",
     "output_type": "stream",
     "text": [
      "     Region  date Season      gwad\n",
      "1      Bahi  2023     LR  3.123037\n",
      "3   Buhigwe  2023     LR  2.691574\n",
      "5  Chamwino  2023     LR  3.158562\n",
      "7    Chemba  2023     LR  3.077475\n",
      "9    Chunya  2023     LR  3.254950\n"
     ]
    }
   ],
   "source": [
    "rh_lr23=rh_lr[rh_lr[\"date\"] == '2023'] \n",
    "print(rh_lr23.head())"
   ]
  },
  {
   "cell_type": "code",
   "execution_count": 105,
   "metadata": {},
   "outputs": [
    {
     "name": "stdout",
     "output_type": "stream",
     "text": [
      "         Region  date Season      gwad\n",
      "0        Arusha  2022    MAM  3.560500\n",
      "1        Arusha  2023    MAM  2.902175\n",
      "2  Arusha Urban  2022    MAM  2.847075\n",
      "3  Arusha Urban  2023    MAM  2.751550\n",
      "4        Babati  2022    MAM  3.567550\n"
     ]
    }
   ],
   "source": [
    "# Bimodal season B (MAM): January--August\n",
    "mamStart = [1, 2, 3, 4]\n",
    "mamEnd = [5, 6, 7, 8]\n",
    "def MAM_metrics(mam, mamStart, mamEnd, season):\n",
    "    mam.loc[(pd.to_datetime(mam['planting']).dt.month.isin(mamStart)) & (pd.to_datetime(mam['harvest']).dt.month.isin(mamEnd)), 'Season'] = season\n",
    "    mam = mam.groupby(['Region', 'date', 'Season'], as_index=False).agg({'gwad': 'mean'})\n",
    "\n",
    "    return mam\n",
    "\n",
    "rh_mam = MAM_metrics(bimodal, mamStart, mamEnd, \"MAM\")\n",
    "print(rh_mam.head())"
   ]
  },
  {
   "cell_type": "code",
   "execution_count": 106,
   "metadata": {},
   "outputs": [
    {
     "name": "stdout",
     "output_type": "stream",
     "text": [
      "         Region  date Season      gwad\n",
      "1        Arusha  2023    MAM  2.902175\n",
      "3  Arusha Urban  2023    MAM  2.751550\n",
      "5        Babati  2023    MAM  3.223975\n",
      "7  Babati Urban  2023    MAM  2.961275\n",
      "9      Bagamoyo  2023    MAM  3.369000\n"
     ]
    }
   ],
   "source": [
    "rh_mam23=rh_mam[rh_mam[\"date\"] == '2023'] \n",
    "print(rh_mam23.head())"
   ]
  },
  {
   "cell_type": "code",
   "execution_count": 107,
   "metadata": {},
   "outputs": [],
   "source": [
    "unimodal_shp = gpd.read_file(\"/Users/gamoyo/Documents/GitHub/yieldprediction/rheas/gadm36_TZA_2_LongRain.shp\")\n",
    "bimodal_shp = gpd.read_file(\"/Users/gamoyo/Documents/GitHub/yieldprediction/rheas/gadm36_TZA_2_Bimodal.shp\")\n",
    "unimodal_shp.rename(columns={'NAME_2':'Region'}, inplace=True)\n",
    "bimodal_shp.rename(columns={'NAME_2':'Region'}, inplace=True)\n",
    "country_shapefile = gpd.read_file('/Users/gamoyo/Documents/GitHub/yieldprediction/rheas/gadm36_TZA_0.shp')\n",
    "#shapefile[\"NewDist20\"] = shapefile.index\n",
    "#print(shapefile)\n",
    "LR23 = pd.merge(unimodal_shp, rh_lr23, on=\"Region\")\n",
    "MAM23 = pd.merge(bimodal_shp, rh_mam23, on=\"Region\")"
   ]
  },
  {
   "cell_type": "code",
   "execution_count": 108,
   "metadata": {},
   "outputs": [],
   "source": [
    "geo_sourceLR23 = GeoJSONDataSource(geojson=LR23.to_json())\n",
    "geo_sourceMAM23 = GeoJSONDataSource(geojson=MAM23.to_json())\n",
    "country_geo_source = GeoJSONDataSource(geojson=country_shapefile.to_json())"
   ]
  },
  {
   "cell_type": "code",
   "execution_count": 109,
   "metadata": {},
   "outputs": [],
   "source": [
    "color_mapper = LinearColorMapper(palette=\"RdBu10\", low=3.0, high=3.5)\n",
    "p1 = figure(title='Long Rains Yield (Mt/Ha) - 2023',\n",
    "           plot_width=650, plot_height=600)\n",
    "\n",
    "p1.multi_line('xs','ys', source=country_geo_source,\n",
    "            line_color='black', line_width=0.5)\n",
    "\n",
    "p1.patches('xs','ys', source=geo_sourceLR23,\n",
    "          fill_color={'field': 'gwad', 'transform': color_mapper},\n",
    "          fill_alpha=0.7, line_color='black', line_width=0.5)\n",
    "\n",
    "hover = HoverTool(tooltips=[('District', '@Region'), ('gwad', '@gwad')])\n",
    "p1.add_tools(hover)\n",
    "\n",
    "color_bar = ColorBar(color_mapper=color_mapper, label_standoff=8, width=20, height=300,\n",
    "                     border_line_color=None, location=(0,0), orientation='vertical')\n",
    "p1.add_layout(color_bar, 'right')"
   ]
  },
  {
   "cell_type": "code",
   "execution_count": 110,
   "metadata": {},
   "outputs": [],
   "source": [
    "color_mapper1 = LinearColorMapper(palette=\"RdBu10\", low=3.0, high=3.5)\n",
    "p2 = figure(title='MAM Yield (Mt/Ha) - 2023',\n",
    "           plot_width=650, plot_height=600)\n",
    "\n",
    "p2.multi_line('xs','ys', source=country_geo_source,\n",
    "            line_color='black', line_width=0.5)\n",
    "\n",
    "p2.patches('xs','ys', source=geo_sourceMAM23,\n",
    "          fill_color={'field': 'gwad', 'transform': color_mapper1},\n",
    "          fill_alpha=0.7, line_color='black', line_width=0.5)\n",
    "\n",
    "hover = HoverTool(tooltips=[('District', '@Region'), ('gwad', '@gwad')])\n",
    "p2.add_tools(hover)\n",
    "\n",
    "color_bar = ColorBar(color_mapper=color_mapper1, label_standoff=8, width=20, height=300,\n",
    "                     border_line_color=None, location=(0,0), orientation='vertical')\n",
    "p2.add_layout(color_bar, 'right')"
   ]
  },
  {
   "cell_type": "code",
   "execution_count": 111,
   "metadata": {},
   "outputs": [],
   "source": [
    "#from bokeh.layouts import column\n",
    "#layout = column(p1, p2)\n",
    "#show(layout)"
   ]
  },
  {
   "cell_type": "code",
   "execution_count": 112,
   "metadata": {},
   "outputs": [],
   "source": [
    "p=gridplot([[p1, p2]])\n",
    "show(p)"
   ]
  },
  {
   "cell_type": "code",
   "execution_count": 116,
   "metadata": {},
   "outputs": [
    {
     "data": {
      "text/plain": [
       "'/Users/gamoyo/Documents/GitHub/yieldprediction/yield_map.html'"
      ]
     },
     "execution_count": 116,
     "metadata": {},
     "output_type": "execute_result"
    }
   ],
   "source": [
    "from bokeh.io import save\n",
    "# specify the output file name and location\n",
    "save(p, filename='yield_map.html', title='Yield Data Map')"
   ]
  },
  {
   "cell_type": "code",
   "execution_count": 114,
   "metadata": {},
   "outputs": [],
   "source": [
    "#from bokeh.io import save\n",
    "\n",
    "# specify the output file name and location\n",
    "#save(p, filename='yield_map.html', title='Yield Data Map')"
   ]
  }
 ],
 "metadata": {
  "kernelspec": {
   "display_name": "base",
   "language": "python",
   "name": "python3"
  },
  "language_info": {
   "codemirror_mode": {
    "name": "ipython",
    "version": 3
   },
   "file_extension": ".py",
   "mimetype": "text/x-python",
   "name": "python",
   "nbconvert_exporter": "python",
   "pygments_lexer": "ipython3",
   "version": "3.9.12"
  },
  "orig_nbformat": 4,
  "vscode": {
   "interpreter": {
    "hash": "1db0cfa2229a1e7dc5b92e878eefb6a59298900e4ebd407710c1ec8377d612b6"
   }
  }
 },
 "nbformat": 4,
 "nbformat_minor": 2
}
