{
 "cells": [
  {
   "cell_type": "code",
   "execution_count": 1,
   "metadata": {},
   "outputs": [],
   "source": [
    "import pandas as pd\n",
    "import pandas as pd\n",
    "import geopandas as gpd\n",
    "from bokeh.plotting import figure, show\n",
    "from bokeh.models import GeoJSONDataSource, ColumnDataSource, HoverTool\n",
    "from bokeh.palettes import Viridis256 \n",
    "from bokeh.palettes import BrBG, PiYG, RdGy, RdYlGn, YlGnBu\n",
    "from bokeh.models import LinearColorMapper, ColorBar\n",
    "#import streamlit as st\n",
    "#from streamlit_folium import st_folium\n",
    "#import folium\n",
    "#from leaflet import Map, GeoJSON"
   ]
  },
  {
   "cell_type": "code",
   "execution_count": 2,
   "metadata": {},
   "outputs": [],
   "source": [
    "def format_df(filename):\n",
    "    df = pd.read_csv(filename)\n",
    "    df['harvest'] = pd.to_datetime(df['harvest'], format='%Y/%m/%d')\n",
    "    df['planting'] = pd.to_datetime(df['planting'], format='%Y/%m/%d')\n",
    "    df['date'] = df['harvest'].dt.strftime(\"%Y\")\n",
    "    df = df.rename(columns={'cname': 'Region'})\n",
    "    #df = df.rename(columns={df.columns[1]: \"Region\"})\n",
    "    #df['Region'] = df['Region'].str.upper()\n",
    "    return df"
   ]
  },
  {
   "cell_type": "code",
   "execution_count": 3,
   "metadata": {},
   "outputs": [
    {
     "name": "stdout",
     "output_type": "stream",
     "text": [
      "          id           Region   planting    harvest   wsgd  gwad  date\n",
      "0      21665            Nyasa 2023-02-18 2023-06-22  0.166  3063  2023\n",
      "1      21666            Nyasa 2023-01-22 2023-06-02  0.000  3297  2023\n",
      "2      21667            Nyasa 2023-02-16 2023-06-22  0.311  3194  2023\n",
      "3      23176           Uvinza 2023-02-04 2023-06-16  0.000  3635  2023\n",
      "4      23177           Uvinza 2023-02-11 2023-06-22  0.000  3664  2023\n",
      "...      ...              ...        ...        ...    ...   ...   ...\n",
      "13195  23362  Lake Tanganyika 2022-02-18 2022-06-22  0.000  2673  2022\n",
      "13196  23363  Lake Tanganyika 2022-02-12 2022-06-22  0.000  3267  2022\n",
      "13197  23364  Lake Tanganyika 2022-02-03 2022-06-22  0.000  4059  2022\n",
      "13198  23365  Lake Tanganyika 2022-02-09 2022-06-22  0.000  3366  2022\n",
      "13199  23366  Lake Tanganyika 2022-02-19 2022-06-22  0.000  2574  2022\n",
      "\n",
      "[13200 rows x 7 columns]\n"
     ]
    }
   ],
   "source": [
    "unimodal=format_df('/Users/gamoyo/Documents/GitHub/yieldprediction/rheas/tanzania_tamsat_25km_districts_unimod_dssatTable_2021_2023_100kg.csv')\n",
    "\n",
    "print(unimodal)"
   ]
  },
  {
   "cell_type": "code",
   "execution_count": 4,
   "metadata": {},
   "outputs": [
    {
     "name": "stdout",
     "output_type": "stream",
     "text": [
      "     Region  date Season         gwad\n",
      "0      Bahi  2022     LR  3783.650000\n",
      "1      Bahi  2023     LR  3123.037500\n",
      "2   Buhigwe  2022     LR  3725.214286\n",
      "3   Buhigwe  2023     LR  2691.573529\n",
      "4  Chamwino  2022     LR  3743.050000\n"
     ]
    }
   ],
   "source": [
    "# Unimodal season:  October--August (LR)\n",
    "lrStart = [9, 10, 11, 12, 1,2, 3, 4]\n",
    "lrEnd = [2, 3, 4, 5, 6, 7, 8]\n",
    "def LR_metrics(lr, lrStart, lrEnd, season):\n",
    "    lr.loc[(pd.to_datetime(lr['planting']).dt.month.isin(lrStart)) & (pd.to_datetime(lr['harvest']).dt.month.isin(lrEnd)), 'Season'] = season\n",
    "    lr = lr.groupby(['Region', 'date', 'Season'], as_index=False).agg({'gwad': 'mean'})\n",
    "\n",
    "    return lr\n",
    "\n",
    "rh_lr = LR_metrics(unimodal, lrStart, lrEnd, \"LR\")\n",
    "print(rh_lr.head())"
   ]
  },
  {
   "cell_type": "code",
   "execution_count": 5,
   "metadata": {},
   "outputs": [
    {
     "data": {
      "text/html": [
       "<div>\n",
       "<style scoped>\n",
       "    .dataframe tbody tr th:only-of-type {\n",
       "        vertical-align: middle;\n",
       "    }\n",
       "\n",
       "    .dataframe tbody tr th {\n",
       "        vertical-align: top;\n",
       "    }\n",
       "\n",
       "    .dataframe thead th {\n",
       "        text-align: right;\n",
       "    }\n",
       "</style>\n",
       "<table border=\"1\" class=\"dataframe\">\n",
       "  <thead>\n",
       "    <tr style=\"text-align: right;\">\n",
       "      <th></th>\n",
       "      <th>Region</th>\n",
       "      <th>date</th>\n",
       "      <th>Season</th>\n",
       "      <th>gwad</th>\n",
       "    </tr>\n",
       "  </thead>\n",
       "  <tbody>\n",
       "  </tbody>\n",
       "</table>\n",
       "</div>"
      ],
      "text/plain": [
       "Empty DataFrame\n",
       "Columns: [Region, date, Season, gwad]\n",
       "Index: []"
      ]
     },
     "execution_count": 5,
     "metadata": {},
     "output_type": "execute_result"
    }
   ],
   "source": [
    "rh_lr.query('date in [2022]')"
   ]
  },
  {
   "cell_type": "code",
   "execution_count": 14,
   "metadata": {},
   "outputs": [],
   "source": [
    "shapefile = gpd.read_file(\"/Users/gamoyo/Documents/GitHub/yieldprediction/rheas/gadm36_TZA_2_LongRain.shp\")\n",
    "shapefile.rename(columns={'NAME_2':'Region'}, inplace=True)\n",
    "country_shapefile = gpd.read_file('tanzania.shp')\n",
    "#shapefile[\"NewDist20\"] = shapefile.index\n",
    "#print(shapefile)\n",
    "merged_data = pd.merge(shapefile, rh_lr, on=\"Region\")"
   ]
  },
  {
   "cell_type": "code",
   "execution_count": 7,
   "metadata": {},
   "outputs": [],
   "source": [
    "outfp = \"merged_unimodal.shp\"\n",
    "merged_data.to_file(outfp)"
   ]
  },
  {
   "cell_type": "code",
   "execution_count": 15,
   "metadata": {},
   "outputs": [],
   "source": [
    "geo_source = GeoJSONDataSource(geojson=merged_data.to_json())\n",
    "country_geo_source = GeoJSONDataSource(geojson=country_shapefile.to_json())"
   ]
  },
  {
   "cell_type": "code",
   "execution_count": 16,
   "metadata": {},
   "outputs": [],
   "source": [
    "color_mapper = LinearColorMapper(palette=Viridis256, low=min(merged_data['gwad']), high=max(merged_data['gwad']))"
   ]
  },
  {
   "cell_type": "code",
   "execution_count": 17,
   "metadata": {},
   "outputs": [],
   "source": [
    "p1 = figure(title='Yield Data by District',\n",
    "           plot_width=650, plot_height=600)\n",
    "\n",
    "p1.multi_line('xs','ys', source=country_geo_source,\n",
    "            line_color='black', line_width=0.5)\n",
    "\n",
    "p1.patches('xs','ys', source=geo_source,\n",
    "          fill_color={'field': 'gwad', 'transform': color_mapper},\n",
    "          fill_alpha=0.7, line_color='black', line_width=0.5)\n",
    "\n",
    "hover = HoverTool(tooltips=[('District', '@Region'), ('gwad', '@gwad')])\n",
    "p1.add_tools(hover)\n",
    "\n",
    "color_bar = ColorBar(color_mapper=color_mapper, label_standoff=8, width=20, height=300,\n",
    "                     border_line_color=None, location=(0,0), orientation='vertical')\n",
    "p1.add_layout(color_bar, 'right')"
   ]
  },
  {
   "cell_type": "code",
   "execution_count": 18,
   "metadata": {},
   "outputs": [],
   "source": [
    "show(p1)"
   ]
  },
  {
   "cell_type": "code",
   "execution_count": 12,
   "metadata": {},
   "outputs": [],
   "source": [
    "color_mapper1 = LinearColorMapper(palette=Viridis256, low=min(merged_data['gwad']), high=max(merged_data['gwad']))\n",
    "\n",
    "p2 = figure(title='Yield Data by District',\n",
    "           plot_width=650, plot_height=600)\n",
    "\n",
    "p2.multi_line('xs','ys', source=country_geo_source,\n",
    "            line_color='black', line_width=0.5)\n",
    "\n",
    "p2.patches('xs','ys', source=geo_source,\n",
    "          fill_color={'field': 'gwad', 'transform': color_mapper1},\n",
    "          fill_alpha=0.7, line_color='black', line_width=0.5)\n",
    "\n",
    "hover = HoverTool(tooltips=[('District', '@gwad'), ('gwad', '@gwad')])\n",
    "p2.add_tools(hover)\n",
    "\n",
    "color_bar = ColorBar(color_mapper=color_mapper1, label_standoff=8, width=20, height=300,\n",
    "                     border_line_color=None, location=(0,0), orientation='vertical')\n",
    "p2.add_layout(color_bar, 'right')"
   ]
  },
  {
   "cell_type": "code",
   "execution_count": 13,
   "metadata": {},
   "outputs": [
    {
     "ename": "RuntimeError",
     "evalue": "Models must be owned by only a single document, MultiLine(id='1041', ...) is already in a doc",
     "output_type": "error",
     "traceback": [
      "\u001b[0;31m---------------------------------------------------------------------------\u001b[0m",
      "\u001b[0;31mRuntimeError\u001b[0m                              Traceback (most recent call last)",
      "\u001b[1;32m/Users/gamoyo/Documents/regrid/rheas/test.ipynb Cell 13\u001b[0m in \u001b[0;36m<cell line: 3>\u001b[0;34m()\u001b[0m\n\u001b[1;32m      <a href='vscode-notebook-cell:/Users/gamoyo/Documents/regrid/rheas/test.ipynb#X14sZmlsZQ%3D%3D?line=0'>1</a>\u001b[0m \u001b[39mfrom\u001b[39;00m \u001b[39mbokeh\u001b[39;00m\u001b[39m.\u001b[39;00m\u001b[39mlayouts\u001b[39;00m \u001b[39mimport\u001b[39;00m column\n\u001b[1;32m      <a href='vscode-notebook-cell:/Users/gamoyo/Documents/regrid/rheas/test.ipynb#X14sZmlsZQ%3D%3D?line=1'>2</a>\u001b[0m layout \u001b[39m=\u001b[39m column(p1, p2)\n\u001b[0;32m----> <a href='vscode-notebook-cell:/Users/gamoyo/Documents/regrid/rheas/test.ipynb#X14sZmlsZQ%3D%3D?line=2'>3</a>\u001b[0m show(layout)\n",
      "File \u001b[0;32m~/opt/anaconda3/lib/python3.9/site-packages/bokeh/io/showing.py:144\u001b[0m, in \u001b[0;36mshow\u001b[0;34m(obj, browser, new, notebook_handle, notebook_url, **kwargs)\u001b[0m\n\u001b[1;32m    141\u001b[0m state \u001b[39m=\u001b[39m curstate()\n\u001b[1;32m    143\u001b[0m \u001b[39mif\u001b[39;00m \u001b[39misinstance\u001b[39m(obj, LayoutDOM):\n\u001b[0;32m--> 144\u001b[0m     \u001b[39mreturn\u001b[39;00m _show_with_state(obj, state, browser, new, notebook_handle\u001b[39m=\u001b[39;49mnotebook_handle)\n\u001b[1;32m    146\u001b[0m \u001b[39mdef\u001b[39;00m \u001b[39mis_application\u001b[39m(obj: Any) \u001b[39m-\u001b[39m\u001b[39m>\u001b[39m TypeGuard[Application]:\n\u001b[1;32m    147\u001b[0m     \u001b[39mreturn\u001b[39;00m \u001b[39mgetattr\u001b[39m(obj, \u001b[39m'\u001b[39m\u001b[39m_is_a_bokeh_application_class\u001b[39m\u001b[39m'\u001b[39m, \u001b[39mFalse\u001b[39;00m)\n",
      "File \u001b[0;32m~/opt/anaconda3/lib/python3.9/site-packages/bokeh/io/showing.py:195\u001b[0m, in \u001b[0;36m_show_with_state\u001b[0;34m(obj, state, browser, new, notebook_handle)\u001b[0m\n\u001b[1;32m    192\u001b[0m     shown \u001b[39m=\u001b[39m \u001b[39mTrue\u001b[39;00m\n\u001b[1;32m    194\u001b[0m \u001b[39mif\u001b[39;00m state\u001b[39m.\u001b[39mfile \u001b[39mor\u001b[39;00m \u001b[39mnot\u001b[39;00m shown:\n\u001b[0;32m--> 195\u001b[0m     _show_file_with_state(obj, state, new, controller)\n\u001b[1;32m    197\u001b[0m \u001b[39mreturn\u001b[39;00m comms_handle\n",
      "File \u001b[0;32m~/opt/anaconda3/lib/python3.9/site-packages/bokeh/io/showing.py:176\u001b[0m, in \u001b[0;36m_show_file_with_state\u001b[0;34m(obj, state, new, controller)\u001b[0m\n\u001b[1;32m    172\u001b[0m \u001b[39mdef\u001b[39;00m \u001b[39m_show_file_with_state\u001b[39m(obj: LayoutDOM, state: State, new: BrowserTarget, controller: BrowserLike) \u001b[39m-\u001b[39m\u001b[39m>\u001b[39m \u001b[39mNone\u001b[39;00m:\n\u001b[1;32m    173\u001b[0m     \u001b[39m'''\u001b[39;00m\n\u001b[1;32m    174\u001b[0m \n\u001b[1;32m    175\u001b[0m \u001b[39m    '''\u001b[39;00m\n\u001b[0;32m--> 176\u001b[0m     filename \u001b[39m=\u001b[39m save(obj, state\u001b[39m=\u001b[39;49mstate)\n\u001b[1;32m    177\u001b[0m     controller\u001b[39m.\u001b[39mopen(\u001b[39m\"\u001b[39m\u001b[39mfile://\u001b[39m\u001b[39m\"\u001b[39m \u001b[39m+\u001b[39m filename, new\u001b[39m=\u001b[39mNEW_PARAM[new])\n",
      "File \u001b[0;32m~/opt/anaconda3/lib/python3.9/site-packages/bokeh/io/saving.py:98\u001b[0m, in \u001b[0;36msave\u001b[0;34m(obj, filename, resources, title, template, state)\u001b[0m\n\u001b[1;32m     95\u001b[0m theme \u001b[39m=\u001b[39m state\u001b[39m.\u001b[39mdocument\u001b[39m.\u001b[39mtheme\n\u001b[1;32m     97\u001b[0m filename, resources, title \u001b[39m=\u001b[39m _get_save_args(state, filename, resources, title)\n\u001b[0;32m---> 98\u001b[0m _save_helper(obj, filename, resources, title, template, theme)\n\u001b[1;32m     99\u001b[0m \u001b[39mreturn\u001b[39;00m abspath(filename)\n",
      "File \u001b[0;32m~/opt/anaconda3/lib/python3.9/site-packages/bokeh/io/saving.py:164\u001b[0m, in \u001b[0;36m_save_helper\u001b[0;34m(obj, filename, resources, title, template, theme)\u001b[0m\n\u001b[1;32m    160\u001b[0m \u001b[39m'''\u001b[39;00m\n\u001b[1;32m    161\u001b[0m \n\u001b[1;32m    162\u001b[0m \u001b[39m'''\u001b[39;00m\n\u001b[1;32m    163\u001b[0m \u001b[39mfrom\u001b[39;00m \u001b[39m.\u001b[39;00m\u001b[39m.\u001b[39;00m\u001b[39membed\u001b[39;00m \u001b[39mimport\u001b[39;00m file_html\n\u001b[0;32m--> 164\u001b[0m html \u001b[39m=\u001b[39m file_html(obj, resources, title\u001b[39m=\u001b[39;49mtitle, template\u001b[39m=\u001b[39;49mtemplate \u001b[39mor\u001b[39;49;00m FILE, theme\u001b[39m=\u001b[39;49mtheme)\n\u001b[1;32m    166\u001b[0m \u001b[39mwith\u001b[39;00m \u001b[39mopen\u001b[39m(filename, mode\u001b[39m=\u001b[39m\u001b[39m\"\u001b[39m\u001b[39mw\u001b[39m\u001b[39m\"\u001b[39m, encoding\u001b[39m=\u001b[39m\u001b[39m\"\u001b[39m\u001b[39mutf-8\u001b[39m\u001b[39m\"\u001b[39m) \u001b[39mas\u001b[39;00m f:\n\u001b[1;32m    167\u001b[0m     f\u001b[39m.\u001b[39mwrite(html)\n",
      "File \u001b[0;32m~/opt/anaconda3/lib/python3.9/site-packages/bokeh/embed/standalone.py:354\u001b[0m, in \u001b[0;36mfile_html\u001b[0;34m(models, resources, title, template, template_variables, theme, suppress_callback_warning, _always_new)\u001b[0m\n\u001b[1;32m    351\u001b[0m \u001b[39melse\u001b[39;00m:\n\u001b[1;32m    352\u001b[0m     models_seq \u001b[39m=\u001b[39m models\n\u001b[0;32m--> 354\u001b[0m \u001b[39mwith\u001b[39;00m OutputDocumentFor(models_seq, apply_theme\u001b[39m=\u001b[39mtheme, always_new\u001b[39m=\u001b[39m_always_new) \u001b[39mas\u001b[39;00m doc:\n\u001b[1;32m    355\u001b[0m     (docs_json, render_items) \u001b[39m=\u001b[39m standalone_docs_json_and_render_items(models_seq, suppress_callback_warning\u001b[39m=\u001b[39msuppress_callback_warning)\n\u001b[1;32m    356\u001b[0m     title \u001b[39m=\u001b[39m _title_from_models(models_seq, title)\n",
      "File \u001b[0;32m~/opt/anaconda3/lib/python3.9/contextlib.py:119\u001b[0m, in \u001b[0;36m_GeneratorContextManager.__enter__\u001b[0;34m(self)\u001b[0m\n\u001b[1;32m    117\u001b[0m \u001b[39mdel\u001b[39;00m \u001b[39mself\u001b[39m\u001b[39m.\u001b[39margs, \u001b[39mself\u001b[39m\u001b[39m.\u001b[39mkwds, \u001b[39mself\u001b[39m\u001b[39m.\u001b[39mfunc\n\u001b[1;32m    118\u001b[0m \u001b[39mtry\u001b[39;00m:\n\u001b[0;32m--> 119\u001b[0m     \u001b[39mreturn\u001b[39;00m \u001b[39mnext\u001b[39;49m(\u001b[39mself\u001b[39;49m\u001b[39m.\u001b[39;49mgen)\n\u001b[1;32m    120\u001b[0m \u001b[39mexcept\u001b[39;00m \u001b[39mStopIteration\u001b[39;00m:\n\u001b[1;32m    121\u001b[0m     \u001b[39mraise\u001b[39;00m \u001b[39mRuntimeError\u001b[39;00m(\u001b[39m\"\u001b[39m\u001b[39mgenerator didn\u001b[39m\u001b[39m'\u001b[39m\u001b[39mt yield\u001b[39m\u001b[39m\"\u001b[39m) \u001b[39mfrom\u001b[39;00m \u001b[39mNone\u001b[39m\n",
      "File \u001b[0;32m~/opt/anaconda3/lib/python3.9/site-packages/bokeh/embed/util.py:153\u001b[0m, in \u001b[0;36mOutputDocumentFor\u001b[0;34m(objs, apply_theme, always_new)\u001b[0m\n\u001b[1;32m    151\u001b[0m     doc \u001b[39m=\u001b[39m Document()\n\u001b[1;32m    152\u001b[0m     \u001b[39mfor\u001b[39;00m model \u001b[39min\u001b[39;00m objs:\n\u001b[0;32m--> 153\u001b[0m         doc\u001b[39m.\u001b[39;49madd_root(model)\n\u001b[1;32m    155\u001b[0m \u001b[39m# handle a single shared document\u001b[39;00m\n\u001b[1;32m    156\u001b[0m \u001b[39melif\u001b[39;00m \u001b[39mlen\u001b[39m(docs) \u001b[39m==\u001b[39m \u001b[39m1\u001b[39m:\n",
      "File \u001b[0;32m~/opt/anaconda3/lib/python3.9/site-packages/bokeh/document/document.py:328\u001b[0m, in \u001b[0;36mDocument.add_root\u001b[0;34m(self, model, setter)\u001b[0m\n\u001b[1;32m    325\u001b[0m     \u001b[39mreturn\u001b[39;00m\n\u001b[1;32m    327\u001b[0m \u001b[39mwith\u001b[39;00m \u001b[39mself\u001b[39m\u001b[39m.\u001b[39mmodels\u001b[39m.\u001b[39mfreeze():\n\u001b[0;32m--> 328\u001b[0m     \u001b[39mself\u001b[39m\u001b[39m.\u001b[39m_roots\u001b[39m.\u001b[39mappend(model)\n\u001b[1;32m    330\u001b[0m \u001b[39mself\u001b[39m\u001b[39m.\u001b[39mcallbacks\u001b[39m.\u001b[39mtrigger_on_change(RootAddedEvent(\u001b[39mself\u001b[39m, model, setter))\n",
      "File \u001b[0;32m~/opt/anaconda3/lib/python3.9/contextlib.py:126\u001b[0m, in \u001b[0;36m_GeneratorContextManager.__exit__\u001b[0;34m(self, typ, value, traceback)\u001b[0m\n\u001b[1;32m    124\u001b[0m \u001b[39mif\u001b[39;00m typ \u001b[39mis\u001b[39;00m \u001b[39mNone\u001b[39;00m:\n\u001b[1;32m    125\u001b[0m     \u001b[39mtry\u001b[39;00m:\n\u001b[0;32m--> 126\u001b[0m         \u001b[39mnext\u001b[39;49m(\u001b[39mself\u001b[39;49m\u001b[39m.\u001b[39;49mgen)\n\u001b[1;32m    127\u001b[0m     \u001b[39mexcept\u001b[39;00m \u001b[39mStopIteration\u001b[39;00m:\n\u001b[1;32m    128\u001b[0m         \u001b[39mreturn\u001b[39;00m \u001b[39mFalse\u001b[39;00m\n",
      "File \u001b[0;32m~/opt/anaconda3/lib/python3.9/site-packages/bokeh/document/models.py:135\u001b[0m, in \u001b[0;36mDocumentModelManager.freeze\u001b[0;34m(self)\u001b[0m\n\u001b[1;32m    133\u001b[0m \u001b[39mself\u001b[39m\u001b[39m.\u001b[39m_push_freeze()\n\u001b[1;32m    134\u001b[0m \u001b[39myield\u001b[39;00m\n\u001b[0;32m--> 135\u001b[0m \u001b[39mself\u001b[39;49m\u001b[39m.\u001b[39;49m_pop_freeze()\n",
      "File \u001b[0;32m~/opt/anaconda3/lib/python3.9/site-packages/bokeh/document/models.py:276\u001b[0m, in \u001b[0;36mDocumentModelManager._pop_freeze\u001b[0;34m(self)\u001b[0m\n\u001b[1;32m    274\u001b[0m \u001b[39mself\u001b[39m\u001b[39m.\u001b[39m_freeze_count \u001b[39m-\u001b[39m\u001b[39m=\u001b[39m \u001b[39m1\u001b[39m\n\u001b[1;32m    275\u001b[0m \u001b[39mif\u001b[39;00m \u001b[39mself\u001b[39m\u001b[39m.\u001b[39m_freeze_count \u001b[39m==\u001b[39m \u001b[39m0\u001b[39m:\n\u001b[0;32m--> 276\u001b[0m     \u001b[39mself\u001b[39;49m\u001b[39m.\u001b[39;49mrecompute()\n",
      "File \u001b[0;32m~/opt/anaconda3/lib/python3.9/site-packages/bokeh/document/models.py:224\u001b[0m, in \u001b[0;36mDocumentModelManager.recompute\u001b[0;34m(self)\u001b[0m\n\u001b[1;32m    221\u001b[0m     md\u001b[39m.\u001b[39m_detach_document()\n\u001b[1;32m    223\u001b[0m \u001b[39mfor\u001b[39;00m ma \u001b[39min\u001b[39;00m to_attach:\n\u001b[0;32m--> 224\u001b[0m     ma\u001b[39m.\u001b[39;49m_attach_document(document)\n\u001b[1;32m    226\u001b[0m \u001b[39mself\u001b[39m\u001b[39m.\u001b[39m_models \u001b[39m=\u001b[39m recomputed\n\u001b[1;32m    227\u001b[0m \u001b[39mself\u001b[39m\u001b[39m.\u001b[39m_models_by_name \u001b[39m=\u001b[39m recomputed_by_name\n",
      "File \u001b[0;32m~/opt/anaconda3/lib/python3.9/site-packages/bokeh/model/model.py:580\u001b[0m, in \u001b[0;36mModel._attach_document\u001b[0;34m(self, doc)\u001b[0m\n\u001b[1;32m    577\u001b[0m     \u001b[39mreturn\u001b[39;00m\n\u001b[1;32m    579\u001b[0m \u001b[39mif\u001b[39;00m \u001b[39mself\u001b[39m\u001b[39m.\u001b[39mdocument \u001b[39mis\u001b[39;00m \u001b[39mnot\u001b[39;00m \u001b[39mNone\u001b[39;00m:\n\u001b[0;32m--> 580\u001b[0m     \u001b[39mraise\u001b[39;00m \u001b[39mRuntimeError\u001b[39;00m(\u001b[39mf\u001b[39m\u001b[39m\"\u001b[39m\u001b[39mModels must be owned by only a single document, \u001b[39m\u001b[39m{\u001b[39;00m\u001b[39mself\u001b[39m\u001b[39m!r}\u001b[39;00m\u001b[39m is already in a doc\u001b[39m\u001b[39m\"\u001b[39m)\n\u001b[1;32m    582\u001b[0m doc\u001b[39m.\u001b[39mtheme\u001b[39m.\u001b[39mapply_to_model(\u001b[39mself\u001b[39m)\n\u001b[1;32m    583\u001b[0m \u001b[39mself\u001b[39m\u001b[39m.\u001b[39mdocument \u001b[39m=\u001b[39m doc\n",
      "\u001b[0;31mRuntimeError\u001b[0m: Models must be owned by only a single document, MultiLine(id='1041', ...) is already in a doc"
     ]
    }
   ],
   "source": [
    "from bokeh.layouts import column\n",
    "layout = column(p1, p2)\n",
    "show(layout)"
   ]
  },
  {
   "cell_type": "code",
   "execution_count": null,
   "metadata": {},
   "outputs": [],
   "source": [
    "#from bokeh.io import output_file, show\n",
    "#output_file(\"plot.html\")\n",
    "#show(layout)"
   ]
  },
  {
   "cell_type": "code",
   "execution_count": null,
   "metadata": {},
   "outputs": [],
   "source": [
    "#from bokeh.io import save\n",
    "\n",
    "# specify the output file name and location\n",
    "#save(p, filename='yield_map.html', title='Yield Data Map')"
   ]
  }
 ],
 "metadata": {
  "kernelspec": {
   "display_name": "base",
   "language": "python",
   "name": "python3"
  },
  "language_info": {
   "codemirror_mode": {
    "name": "ipython",
    "version": 3
   },
   "file_extension": ".py",
   "mimetype": "text/x-python",
   "name": "python",
   "nbconvert_exporter": "python",
   "pygments_lexer": "ipython3",
   "version": "3.9.12 (main, Apr  5 2022, 01:53:17) \n[Clang 12.0.0 ]"
  },
  "orig_nbformat": 4,
  "vscode": {
   "interpreter": {
    "hash": "1db0cfa2229a1e7dc5b92e878eefb6a59298900e4ebd407710c1ec8377d612b6"
   }
  }
 },
 "nbformat": 4,
 "nbformat_minor": 2
}
