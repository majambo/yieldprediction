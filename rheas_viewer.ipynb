{
 "cells": [
  {
   "cell_type": "code",
   "execution_count": 546,
   "metadata": {},
   "outputs": [],
   "source": [
    "import pandas as pd\n",
    "import pandas as pd\n",
    "import geopandas as gpd\n",
    "from bokeh.plotting import figure, show\n",
    "from bokeh.layouts import gridplot\n",
    "from bokeh.models import GeoJSONDataSource, ColumnDataSource, HoverTool\n",
    "from bokeh.palettes import Viridis256, Inferno256, Magma256\n",
    "from bokeh.palettes import BrBG, PiYG, RdGy, RdYlGn, YlGnBu\n",
    "from bokeh.models import LinearColorMapper, ColorBar\n",
    "#import streamlit as st\n",
    "#from streamlit_folium import st_folium\n",
    "#import folium\n",
    "#from leaflet import Map, GeoJSON"
   ]
  },
  {
   "cell_type": "code",
   "execution_count": 547,
   "metadata": {},
   "outputs": [],
   "source": [
    "def format_df(filename):\n",
    "    df = pd.read_csv(filename)\n",
    "    df['harvest'] = pd.to_datetime(df['harvest'], format='%Y/%m/%d')\n",
    "    df['planting'] = pd.to_datetime(df['planting'], format='%Y/%m/%d')\n",
    "    df['date'] = df['harvest'].dt.strftime(\"%Y\")\n",
    "    df = df.rename(columns={'cname': 'Region'})\n",
    "    df['gwad'] =df['gwad']/1000\n",
    "    #df = df.rename(columns={df.columns[1]: \"Region\"})\n",
    "    #df['Region'] = df['Region'].str.upper()\n",
    "    return df"
   ]
  },
  {
   "cell_type": "code",
   "execution_count": 548,
   "metadata": {},
   "outputs": [
    {
     "name": "stdout",
     "output_type": "stream",
     "text": [
      "          id           Region   planting    harvest   wsgd   gwad  date\n",
      "0      21665            Nyasa 2023-02-18 2023-06-22  0.166  3.063  2023\n",
      "1      21666            Nyasa 2023-01-22 2023-06-02  0.000  3.297  2023\n",
      "2      21667            Nyasa 2023-02-16 2023-06-22  0.311  3.194  2023\n",
      "3      23176           Uvinza 2023-02-04 2023-06-16  0.000  3.635  2023\n",
      "4      23177           Uvinza 2023-02-11 2023-06-22  0.000  3.664  2023\n",
      "...      ...              ...        ...        ...    ...    ...   ...\n",
      "13195  23362  Lake Tanganyika 2022-02-18 2022-06-22  0.000  2.673  2022\n",
      "13196  23363  Lake Tanganyika 2022-02-12 2022-06-22  0.000  3.267  2022\n",
      "13197  23364  Lake Tanganyika 2022-02-03 2022-06-22  0.000  4.059  2022\n",
      "13198  23365  Lake Tanganyika 2022-02-09 2022-06-22  0.000  3.366  2022\n",
      "13199  23366  Lake Tanganyika 2022-02-19 2022-06-22  0.000  2.574  2022\n",
      "\n",
      "[13200 rows x 7 columns]\n"
     ]
    }
   ],
   "source": [
    "unimodal=format_df('rheas/tanzania_tamsat_25km_districts_unimod_dssatTable_2021_2023_100kg.csv')\n",
    "\n",
    "print(unimodal)"
   ]
  },
  {
   "cell_type": "code",
   "execution_count": 549,
   "metadata": {},
   "outputs": [
    {
     "name": "stdout",
     "output_type": "stream",
     "text": [
      "     Region  date Season      gwad\n",
      "0      Bahi  2022     LR  3.783650\n",
      "1      Bahi  2023     LR  3.123037\n",
      "2   Buhigwe  2022     LR  3.725214\n",
      "3   Buhigwe  2023     LR  2.691574\n",
      "4  Chamwino  2022     LR  3.743050\n"
     ]
    }
   ],
   "source": [
    "# Unimodal season:  October--August (LR)\n",
    "lrStart = [9, 10, 11, 12, 1,2, 3, 4]\n",
    "lrEnd = [2, 3, 4, 5, 6, 7, 8]\n",
    "def LR_metrics(lr, lrStart, lrEnd, season):\n",
    "    lr.loc[(pd.to_datetime(lr['planting']).dt.month.isin(lrStart)) & (pd.to_datetime(lr['harvest']).dt.month.isin(lrEnd)), 'Season'] = season\n",
    "    lr = lr.groupby(['Region', 'date', 'Season'], as_index=False).agg({'gwad': 'mean'})\n",
    "\n",
    "    return lr\n",
    "\n",
    "rh_lr = LR_metrics(unimodal, lrStart, lrEnd, \"LR\")\n",
    "print(rh_lr.head())"
   ]
  },
  {
   "cell_type": "code",
   "execution_count": 550,
   "metadata": {},
   "outputs": [
    {
     "data": {
      "text/html": [
       "<div>\n",
       "<style scoped>\n",
       "    .dataframe tbody tr th:only-of-type {\n",
       "        vertical-align: middle;\n",
       "    }\n",
       "\n",
       "    .dataframe tbody tr th {\n",
       "        vertical-align: top;\n",
       "    }\n",
       "\n",
       "    .dataframe thead th {\n",
       "        text-align: right;\n",
       "    }\n",
       "</style>\n",
       "<table border=\"1\" class=\"dataframe\">\n",
       "  <thead>\n",
       "    <tr style=\"text-align: right;\">\n",
       "      <th></th>\n",
       "      <th>Region</th>\n",
       "      <th>date</th>\n",
       "      <th>Season</th>\n",
       "      <th>gwad</th>\n",
       "    </tr>\n",
       "  </thead>\n",
       "  <tbody>\n",
       "  </tbody>\n",
       "</table>\n",
       "</div>"
      ],
      "text/plain": [
       "Empty DataFrame\n",
       "Columns: [Region, date, Season, gwad]\n",
       "Index: []"
      ]
     },
     "execution_count": 550,
     "metadata": {},
     "output_type": "execute_result"
    }
   ],
   "source": [
    "rh_lr.query('date in [2022]')"
   ]
  },
  {
   "cell_type": "code",
   "execution_count": 551,
   "metadata": {},
   "outputs": [],
   "source": [
    "shapefile = gpd.read_file(\"rheas/gadm36_TZA_2_LongRain.shp\")\n",
    "shapefile.rename(columns={'NAME_2':'Region'}, inplace=True)\n",
    "country_shapefile = gpd.read_file('rheas/gadm36_TZA_0.shp')\n",
    "#shapefile[\"NewDist20\"] = shapefile.index\n",
    "#print(shapefile)\n",
    "merged_data = pd.merge(shapefile, rh_lr, on=\"Region\")"
   ]
  },
  {
   "cell_type": "code",
   "execution_count": 552,
   "metadata": {},
   "outputs": [],
   "source": [
    "geo_source = GeoJSONDataSource(geojson=merged_data.to_json())\n",
    "country_geo_source = GeoJSONDataSource(geojson=country_shapefile.to_json())"
   ]
  },
  {
   "cell_type": "code",
   "execution_count": null,
   "metadata": {},
   "outputs": [],
   "source": [
    "color_mapper1 = LinearColorMapper(palette=Inferno256, low=min(merged_data['gwad']), high=max(merged_data['gwad']))"
   ]
  },
  {
   "cell_type": "code",
   "execution_count": null,
   "metadata": {},
   "outputs": [],
   "source": [
    "color_mapper1 = LinearColorMapper(palette=Inferno256, low=min(merged_data['gwad']), high=max(merged_data['gwad']))\n",
    "\n",
    "p1 = figure(title='LONG RAINS 2023 Season Maize Yield (MT/Ha)',\n",
    "           width=650, height=600)\n",
    "\n",
    "p1.multi_line('xs','ys', source=country_geo_source,\n",
    "            line_color='black', line_width=0.5)\n",
    "\n",
    "p1.patches('xs','ys', source=geo_source,\n",
    "          fill_color={'field': 'gwad', 'transform': color_mapper1},\n",
    "          fill_alpha=0.7, line_color='black', line_width=0.5)\n",
    "\n",
    "hover = HoverTool(tooltips=[('District', '@gwad'), ('gwad', '@gwad')])\n",
    "p1.add_tools(hover)\n",
    "\n",
    "color_bar = ColorBar(color_mapper=color_mapper1, label_standoff=8, width=20, height=300,\n",
    "                     border_line_color=None, location=(0,0), orientation='vertical')\n",
    "p1.add_layout(color_bar, 'right')"
   ]
  },
  {
   "cell_type": "code",
   "execution_count": null,
   "metadata": {},
   "outputs": [],
   "source": [
    "color_mapper1 = LinearColorMapper(palette=Inferno256, low=min(merged_data['gwad']), high=max(merged_data['gwad']))\n",
    "\n",
    "p2 = figure(title='LONG RAINS 2022 Season Maize Yield (MT/Ha)',\n",
    "           width=650, height=600)\n",
    "\n",
    "p2.multi_line('xs','ys', source=country_geo_source,\n",
    "            line_color='black', line_width=0.5)\n",
    "\n",
    "p2.patches('xs','ys', source=geo_source,\n",
    "          fill_color={'field': 'gwad', 'transform': color_mapper1},\n",
    "          fill_alpha=0.7, line_color='black', line_width=0.5)\n",
    "\n",
    "hover = HoverTool(tooltips=[('District', '@gwad'), ('gwad', '@gwad')])\n",
    "p2.add_tools(hover)\n",
    "\n",
    "color_bar = ColorBar(color_mapper=color_mapper1, label_standoff=8, width=20, height=300,\n",
    "                     border_line_color=None, location=(0,0), orientation='vertical')\n",
    "p2.add_layout(color_bar, 'right')"
   ]
  },
  {
   "cell_type": "code",
   "execution_count": null,
   "metadata": {},
   "outputs": [],
   "source": [
    "color_mapper1 = LinearColorMapper(palette=Inferno256, low=min(merged_data['gwad']), high=max(merged_data['gwad']))\n",
    "\n",
    "p3 = figure(title='MAM 2023 Maize Yield (MT/Ha)',\n",
    "           width=650, height=600)\n",
    "\n",
    "p3.multi_line('xs','ys', source=country_geo_source,\n",
    "            line_color='black', line_width=0.5)\n",
    "\n",
    "p3.patches('xs','ys', source=geo_source,\n",
    "          fill_color={'field': 'gwad', 'transform': color_mapper1},\n",
    "          fill_alpha=0.7, line_color='black', line_width=0.5)\n",
    "\n",
    "hover = HoverTool(tooltips=[('District', '@gwad'), ('gwad', '@gwad')])\n",
    "p3.add_tools(hover)\n",
    "\n",
    "color_bar = ColorBar(color_mapper=color_mapper1, label_standoff=8, width=20, height=300,\n",
    "                     border_line_color=None, location=(0,0), orientation='vertical')\n",
    "p3.add_layout(color_bar, 'right')"
   ]
  },
  {
   "cell_type": "code",
   "execution_count": null,
   "metadata": {},
   "outputs": [],
   "source": [
    "color_mapper1 = LinearColorMapper(palette=Inferno256, low=min(merged_data['gwad']), high=max(merged_data['gwad']))\n",
    "\n",
    "p4 = figure(title='OND 2022 Maize Yield (MT/Ha)',\n",
    "           width=650, height=600)\n",
    "\n",
    "p4.multi_line('xs','ys', source=country_geo_source,\n",
    "            line_color='black', line_width=0.5)\n",
    "\n",
    "p4.patches('xs','ys', source=geo_source,\n",
    "          fill_color={'field': 'gwad', 'transform': color_mapper1},\n",
    "          fill_alpha=0.7, line_color='black', line_width=0.5)\n",
    "\n",
    "hover = HoverTool(tooltips=[('District', '@gwad'), ('gwad', '@gwad')])\n",
    "p4.add_tools(hover)\n",
    "\n",
    "color_bar = ColorBar(color_mapper=color_mapper1, label_standoff=8, width=20, height=300,\n",
    "                     border_line_color=None, location=(0,0), orientation='vertical')\n",
    "p4.add_layout(color_bar, 'right')"
   ]
  },
  {
   "cell_type": "code",
   "execution_count": null,
   "metadata": {},
   "outputs": [],
   "source": [
    "\n",
    "# from bokeh.layouts import column\n",
    "# layout = column(p1, p2)\n",
    "# show(layout)\n",
    "p=gridplot([[p1, p2],[p3, p4]])\n",
    "show(p)"
   ]
  },
  {
   "cell_type": "code",
   "execution_count": null,
   "metadata": {},
   "outputs": [],
   "source": [
    "#from bokeh.io import output_file, show\n",
    "#output_file(\"plot.html\")\n",
    "#show(layout)"
   ]
  },
  {
   "cell_type": "code",
   "execution_count": null,
   "metadata": {},
   "outputs": [],
   "source": [
    "#from bokeh.io import save\n",
    "\n",
    "# specify the output file name and location\n",
    "#save(p, filename='yield_map.html', title='Yield Data Map')"
   ]
  }
 ],
 "metadata": {
  "kernelspec": {
   "display_name": "Python 3",
   "language": "python",
   "name": "python3"
  },
  "language_info": {
   "codemirror_mode": {
    "name": "ipython",
    "version": 3
   },
   "file_extension": ".py",
   "mimetype": "text/x-python",
   "name": "python",
   "nbconvert_exporter": "python",
   "pygments_lexer": "ipython3",
   "version": "3.10.5"
  },
  "orig_nbformat": 4,
  "vscode": {
   "interpreter": {
    "hash": "f745412fe046abefa732567d83acd42b32594d10d0c166ca5878f9c42d7fed86"
   }
  }
 },
 "nbformat": 4,
 "nbformat_minor": 2
}
